{
 "cells": [
  {
   "cell_type": "code",
   "execution_count": null,
   "id": "95ad32b3-e5e8-4f26-8802-5970b517e237",
   "metadata": {
    "tags": []
   },
   "outputs": [],
   "source": [
    "# !python -m spacy download en_core_web_sm\n",
    "# !pip install geotext\n",
    "# !pip install spacy\n",
    "# !pip install locationtagger"
   ]
  },
  {
   "cell_type": "code",
   "execution_count": 1,
   "id": "ad464457",
   "metadata": {},
   "outputs": [
    {
     "name": "stderr",
     "output_type": "stream",
     "text": [
      "2023-03-09 11:39:54.771072: I tensorflow/core/platform/cpu_feature_guard.cc:193] This TensorFlow binary is optimized with oneAPI Deep Neural Network Library (oneDNN) to use the following CPU instructions in performance-critical operations:  AVX2 FMA\n",
      "To enable them in other operations, rebuild TensorFlow with the appropriate compiler flags.\n",
      "2023-03-09 11:39:55.495544: W tensorflow/compiler/xla/stream_executor/platform/default/dso_loader.cc:64] Could not load dynamic library 'libnvinfer.so.7'; dlerror: libnvinfer.so.7: cannot open shared object file: No such file or directory\n",
      "2023-03-09 11:39:55.495597: W tensorflow/compiler/xla/stream_executor/platform/default/dso_loader.cc:64] Could not load dynamic library 'libnvinfer_plugin.so.7'; dlerror: libnvinfer_plugin.so.7: cannot open shared object file: No such file or directory\n",
      "2023-03-09 11:39:55.495604: W tensorflow/compiler/tf2tensorrt/utils/py_utils.cc:38] TF-TRT Warning: Cannot dlopen some TensorRT libraries. If you would like to use Nvidia GPU with TensorRT, please make sure the missing libraries mentioned above are installed properly.\n",
      "2023-03-09 11:39:56.356607: I tensorflow/compiler/xla/stream_executor/cuda/cuda_gpu_executor.cc:981] successful NUMA node read from SysFS had negative value (-1), but there must be at least one NUMA node, so returning NUMA node zero\n",
      "2023-03-09 11:39:56.383000: I tensorflow/compiler/xla/stream_executor/cuda/cuda_gpu_executor.cc:981] successful NUMA node read from SysFS had negative value (-1), but there must be at least one NUMA node, so returning NUMA node zero\n",
      "2023-03-09 11:39:56.383253: I tensorflow/compiler/xla/stream_executor/cuda/cuda_gpu_executor.cc:981] successful NUMA node read from SysFS had negative value (-1), but there must be at least one NUMA node, so returning NUMA node zero\n"
     ]
    },
    {
     "name": "stdout",
     "output_type": "stream",
     "text": [
      "Apple 0 5 ORG\n",
      "U.K. 27 31 GPE\n",
      "$1 billion 44 54 MONEY\n"
     ]
    }
   ],
   "source": [
    "import spacy\n",
    "import random\n",
    "import pandas as pd\n",
    "from geotext import GeoText\n",
    "import locationtagger\n",
    "nlp = spacy.load('en_core_web_sm')\n",
    "  \n",
    "sentence = \"Apple is looking at buying U.K. startup for $1 billion\"\n",
    "  \n",
    "doc = nlp(sentence)\n",
    "  \n",
    "for ent in doc.ents:\n",
    "    print(ent.text, ent.start_char, ent.end_char, ent.label_)"
   ]
  },
  {
   "cell_type": "code",
   "execution_count": 2,
   "id": "ef6db180",
   "metadata": {},
   "outputs": [],
   "source": [
    "path_data_travel_questions = '5000TravelQuestionsDataset.csv'"
   ]
  },
  {
   "cell_type": "code",
   "execution_count": 3,
   "id": "f66b8155",
   "metadata": {},
   "outputs": [],
   "source": [
    "import csv\n",
    "\n",
    "with open(path_data_travel_questions, newline='',encoding='latin-1') as f:\n",
    "    reader = csv.reader(f)\n",
    "    data = list(reader)\n",
    "data_travel_questions = [i[0] for i in data]"
   ]
  },
  {
   "cell_type": "code",
   "execution_count": 4,
   "id": "71003fcd-3a05-40e0-afdb-d51503bf1fb0",
   "metadata": {},
   "outputs": [],
   "source": [
    "content_string = \"\\n\".join(data_travel_questions)"
   ]
  },
  {
   "cell_type": "code",
   "execution_count": 5,
   "id": "c77a329d",
   "metadata": {},
   "outputs": [],
   "source": [
    "allow_ner_types = ['PERSON', 'PRODUCT', 'WORK_OF_ART', 'EVENT', 'FAC', 'GPE', \n",
    "                   'LANGUAGE', 'LAW', 'LOC', 'NORP', 'ORG', 'PERSON', 'PRODUCT']"
   ]
  },
  {
   "cell_type": "code",
   "execution_count": 12,
   "id": "e0ba6160-f5ca-4867-9041-bdea059a01f3",
   "metadata": {},
   "outputs": [],
   "source": [
    "rwandan_cities = ['Kigali','Gisenyi','Ruhengeri','Butare','Muhanga','Byumba','Cyangugu','Nyanza','Bugarama','Kayonza','Rwamagana','Nyamata','Ruhango','Gikongoro','Nyagatare','Busogo','Kibuye','Kibungo','Rubengera']\n",
    "rivers = [\"Rusizi River\",\"Sebeya River\",\"Koko River\",\"Rubyiro River\",\"Ruhwa River\",\"Akagera River\",\"Nyabarongo River\",\"Mukungwa River\",\"Akanyaru River\",\"Rukara River\",\"Mbirurume River\"]\n",
    "lakes = [\"Lake Kivu\",\"Lake Ihema\",\"Lake Rweru\",\"Lake Rwanyakizinga\",\"Lake Hago\",\"Lake Mpanga\",\"Lake Ruhondo\",\"Lake Muhazi\",\"Lake Cyohoha\",\"Lake Kivumba\",\"Lake Burera\",\"Lake Mugesera\",\"Lake Sake\",\"Lake Mihindi\",\"Lake Mpanga\"]\n",
    "mountains = [\"Mount Karisimbi\",\"Mount Gahinga\",\"Mount Sabyinyo\",\"Mount Bisoke\",\"Mount Huye\",\"Mount Nyiragongo\",\"Mount Muhabura\"]\n",
    "parks_and_forests = [\"Akagera National Park\",\"Volcanoes National Park\",\"Bwindi Impenetrable Forest\",\"Nyungwe National Park\",\"Cyamudongo Forest\"]\n",
    "islands = [\"Bushongo Island\",\"Cyuza Island\",\"Idwi Island\",\"Ihoka Island\",\"Ika Island\",\"Nkombo Island\",\"Munanira Island\",\"Ishovu Island\",\"Ite Island\",\"Kwankoro Island\",\"Sharita Island\",\"Gombo Island\",\"Iwawa Island\",\"Iwinja Island\",\"Kigwa Island\",\"Kikaya Island\",\"Mishungo Island\",\"Bugarura Island\"]\n",
    "airports = [\"Kigali International Airport\",\"Kamembe Airport\",\"Gisenyi Airport\",\"Bugesera International Airport\"]\n",
    "other_cities = [\"Marrakech"\,\"Praslin\",\"Skukuza\",\"La Digue\",\"Cape Point\",\"capetown\",\"Cape Town\",\"Frankfurt\",\"Cancun\",\"Capetown\",\"Cologne city\",\"Copacabana\",\"Francesca\",\"Madina\",\"Marrakech\",\"Mazatlan\",\"Mobay\",\"Monterosso\",\"Monteverde\",\"Nessebar\",\"Oamaru\",\"Old Town\",\"Osta Antica\",\"Paestum\",\"Paleochora\",\"Patagonia\",\"Pathumwan\",\"Patong\",\"Pavlopetri\",\"Punta\",\"Queesntown\",\"Rabaul\",\"Rhodes Town\",\"Samana\",\"Segesta\",\"Shinagawa\",\"Sicily\",\"Sidari\",\"Sohar\",\"Sokcho\",\"Sosua\",\"Sperlong\",\"St Girons\",\"Sukhumvit\",\"Taba\",\"Thumrait\",\"Tibet\",\"Umbria\",\"Vernazza\",\"Villasimius\",\"Whistler\",\"Ximending\",\"chungju\",\"sharm el sheik\"]\n",
    "other_islands = [\"kurumba\",\"Majorco\",\"North Island\",\"Masirsouth islandah\",\"Minorca\",\"Milos\",\"Moorea\",\"Nami islands\",\"Phi Phi\",\"Phu Quoc\",\"Savai'i\",\"Savaii\",\"Tahiti\",\"Tsarabanjina\",\"Upolo\",\"Zante\",\"malolo\",\"moorea\",\"south island\",\"upolu\"]\n",
    "other_parks = [\"Kruger\",\"Naejangsan\",\"Tortuguero\",\"Tsavo\",\"Yellowstone\",\"masai mara\",\"Masai Mara\"]\n",
    "other_countries = [\"UAE\",\"UK\",\"korea\",\"northern ireland\",\"uk\"]"
   ]
  },
  {
   "cell_type": "code",
   "execution_count": 7,
   "id": "6a6d0e2b-c5e9-4e9a-bfe5-a85fe2423acf",
   "metadata": {},
   "outputs": [],
   "source": [
    "def preprocess(place):\n",
    "    if len(place.split(\"-\"))>1:\n",
    "        place = \" \".join(place.split(\"-\"))\n",
    "    return \" \".join([word.capitalize() for word in place.split(\" \")])"
   ]
  },
  {
   "cell_type": "code",
   "execution_count": 8,
   "id": "c795e25a-79c2-4c20-8ef9-292576ea4a49",
   "metadata": {},
   "outputs": [],
   "source": [
    "def city_country_detector(places):\n",
    "    cities_regions = set()\n",
    "    countries = set()\n",
    "    to_remove = set()\n",
    "    for place in places:\n",
    "        preprocessed_place = preprocess(place)\n",
    "        place_entity = locationtagger.find_locations(text = preprocessed_place)\n",
    "        if len(place_entity.countries) > 0:\n",
    "            countries.add(place)\n",
    "            to_remove.add(place)\n",
    "        if len(GeoText(preprocessed_place).countries)>0:\n",
    "            countries.add(place)\n",
    "            to_remove.add(place)\n",
    "        if len(place_entity.cities) > 0:\n",
    "            cities_regions.add(place)\n",
    "            to_remove.add(place)\n",
    "        if len(GeoText(preprocessed_place).cities)>0:\n",
    "            cities_regions.add(place)\n",
    "            to_remove.add(place)\n",
    "        if len(place_entity.regions) > 0:\n",
    "            cities_regions.add(place)\n",
    "            to_remove.add(place)\n",
    "    return cities_regions, countries, to_remove"
   ]
  },
  {
   "cell_type": "code",
   "execution_count": 13,
   "id": "712156ee-cd48-4772-8604-4567c1c803e6",
   "metadata": {},
   "outputs": [],
   "source": [
    "def loc_substitute_fn(place):\n",
    "    place = place.lower()\n",
    "    location = \"\"\n",
    "    if \"island\" in place or \"isle\" in place:\n",
    "        location = random.choice(islands)\n",
    "    elif \"Mount\" in place or \"Mt.\" in place:\n",
    "        location = random.choice(mountains)\n",
    "    elif \"River\" in place:\n",
    "        location = random.choice(rivers)\n",
    "    elif \"Park\" in place:\n",
    "        location = random.choice(parks_and_forests)\n",
    "    elif \"Lake\" in place:\n",
    "        location = random.choice(lakes)\n",
    "    elif \"airport\" in place:\n",
    "        location = random.choice(airports)\n",
    "    return location"
   ]
  },
  {
   "cell_type": "code",
   "execution_count": 10,
   "id": "a8cc5d9f-90be-4aa3-8ad6-b2763046d6fb",
   "metadata": {
    "tags": []
   },
   "outputs": [],
   "source": [
    "def city_substitute_fn(city,frequency):\n",
    "    if frequency >= 10:\n",
    "        substitute_city = \"Kigali\"\n",
    "    else:\n",
    "        substitute_city = random.choice(rwandan_cities)\n",
    "    return substitute_city"
   ]
  },
  {
   "cell_type": "code",
   "execution_count": 11,
   "id": "b6a44a08-3c76-4e32-9609-ff7d9315fa91",
   "metadata": {
    "tags": []
   },
   "outputs": [],
   "source": [
    "cities = {}\n",
    "countries = set()\n",
    "other_loc_places = set()\n",
    "non_loc_non_gpe = set()\n",
    "for sentence in data_travel_questions:\n",
    "    doc = nlp(sentence)\n",
    "    for ent in doc.ents:\n",
    "        if ent.label_ in allow_ner_types:\n",
    "            if ent.label_ == 'GPE':\n",
    "                city,country,_ = city_country_detector(ent.text)\n",
    "                if len(country) > 0:\n",
    "                    countries.add(country[0])\n",
    "                elif len(city) > 0:\n",
    "                    cities[city[0]] = cities.get(city[0],0) + 1\n",
    "            elif ent.label_ == 'LOC':\n",
    "                other_loc_places.add(ent.text)\n",
    "            else:\n",
    "                non_loc_non_gpe.add(ent.text)\n"
   ]
  },
  {
   "cell_type": "code",
   "execution_count": 14,
   "id": "e593a572-747e-430e-aa67-b2cbefa3eca0",
   "metadata": {},
   "outputs": [],
   "source": [
    "for country in countries:\n",
    "    content_string = content_string.replace(country,\"Rwanda\")\n",
    "for original_city,frequency in cities.items():\n",
    "    content_string = content_string.replace(original_city,city_substitute_fn(original_cit,frequency))\n",
    "for original_place in other_loc_places:\n",
    "    substitute_place = loc_substitute_fn(original_place)\n",
    "    if len(substitute_place) == 0:\n",
    "        city, country, _ = city_country_detector(original_place)\n",
    "        if len(country) > 0:\n",
    "            content_string = content_string.replace(country,\"Rwanda\")\n",
    "        elif len(city) > 0:\n",
    "            substitute_city = random.choice(rwandan_cities)\n",
    "            content_string = content_string.replace(country,substitute_city)\n",
    "    else:\n",
    "        content_string = content_string.replace(original_place,substitute_place)\n",
    "for entity in non_loc_non_gpe:\n",
    "    substitute_place = loc_substitute_fn(entity)\n",
    "    if len(substitute_place) != 0:  \n",
    "        content_string = content_string.replace(entity,substitute_place)\n",
    "        \n",
    "for city in other_cities:\n",
    "    content_string = content_string.replace(city,random.choice(rwandan_cities))\n",
    "for country in other_countries:\n",
    "    content_string = content_string.replace(country,\"Rwanda\")\n",
    "for island in other_islands:\n",
    "    content_string = content_string.replace(island,random.choice(islands))\n",
    "for park in other_parks:\n",
    "    content_string = content_string.replace(park,random.choice(parks_and_forests))\n"
   ]
  },
  {
   "cell_type": "code",
   "execution_count": 15,
   "id": "0220796b-b468-4a15-a17a-a6570e98d69f",
   "metadata": {},
   "outputs": [],
   "source": [
    "substituted_data_travel_content = content_string.split(\"\\n\")"
   ]
  },
  {
   "cell_type": "code",
   "execution_count": 16,
   "id": "9857f593-9d9b-4bd9-8a61-0c2e68c9141a",
   "metadata": {},
   "outputs": [],
   "source": [
    "with open(\"5000_travel_sentences_data_substituted.txt\",\"w\") as f:\n",
    "    for line in substituted_data_travel_content:\n",
    "        f.write(line+\"\\n\")"
   ]
  },
  {
   "cell_type": "code",
   "execution_count": null,
   "id": "de88318e-25e9-403f-b625-18b6db0968ff",
   "metadata": {},
   "outputs": [],
   "source": []
  }
 ],
 "metadata": {
  "kernelspec": {
   "display_name": "Python 3 (ipykernel)",
   "language": "python",
   "name": "python3"
  },
  "language_info": {
   "codemirror_mode": {
    "name": "ipython",
    "version": 3
   },
   "file_extension": ".py",
   "mimetype": "text/x-python",
   "name": "python",
   "nbconvert_exporter": "python",
   "pygments_lexer": "ipython3",
   "version": "3.10.7"
  }
 },
 "nbformat": 4,
 "nbformat_minor": 5
}
