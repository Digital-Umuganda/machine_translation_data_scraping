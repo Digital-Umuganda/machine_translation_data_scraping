{
 "cells": [
  {
   "cell_type": "code",
   "execution_count": null,
   "id": "95ad32b3-e5e8-4f26-8802-5970b517e237",
   "metadata": {
    "jupyter": {
     "outputs_hidden": true
    },
    "tags": []
   },
   "outputs": [],
   "source": [
    "# !python -m spacy download en_core_web_sm\n",
    "# !pip install geotext\n",
    "# !pip install spacy"
   ]
  },
  {
   "cell_type": "markdown",
   "id": "7a7c3af0",
   "metadata": {},
   "source": [
    "## Import and test Spacy"
   ]
  },
  {
   "cell_type": "code",
   "execution_count": 1,
   "id": "ad464457",
   "metadata": {},
   "outputs": [
    {
     "name": "stdout",
     "output_type": "stream",
     "text": [
      "Apple 0 5 ORG\n",
      "U.K. 27 31 GPE\n",
      "$1 billion 44 54 MONEY\n"
     ]
    }
   ],
   "source": [
    "import spacy\n",
    "import random\n",
    "from geotext import GeoText\n",
    "nlp = spacy.load('en_core_web_sm')\n",
    "  \n",
    "sentence = \"Apple is looking at buying U.K. startup for $1 billion\"\n",
    "  \n",
    "doc = nlp(sentence)\n",
    "  \n",
    "for ent in doc.ents:\n",
    "    print(ent.text, ent.start_char, ent.end_char, ent.label_)"
   ]
  },
  {
   "cell_type": "markdown",
   "id": "1c09505f",
   "metadata": {},
   "source": [
    "## Load travel dataset"
   ]
  },
  {
   "cell_type": "code",
   "execution_count": 2,
   "id": "ef6db180",
   "metadata": {},
   "outputs": [],
   "source": [
    "path_data_travel_questions = '5000TravelQuestionsDataset.csv'"
   ]
  },
  {
   "cell_type": "code",
   "execution_count": 95,
   "id": "f66b8155",
   "metadata": {},
   "outputs": [],
   "source": [
    "import csv\n",
    "\n",
    "with open(path_data_travel_questions, newline='',encoding='latin-1') as f:\n",
    "    reader = csv.reader(f)\n",
    "    data = list(reader)\n",
    "data_travel_questions = [i[0] for i in data]"
   ]
  },
  {
   "cell_type": "code",
   "execution_count": 96,
   "id": "71003fcd-3a05-40e0-afdb-d51503bf1fb0",
   "metadata": {},
   "outputs": [],
   "source": [
    "content_string = \"\\n\".join(data_travel_questions)"
   ]
  },
  {
   "cell_type": "markdown",
   "id": "17463a4c",
   "metadata": {},
   "source": [
    "## Analyse dataset, extract other locations"
   ]
  },
  {
   "cell_type": "markdown",
   "id": "eb7dbdc3",
   "metadata": {},
   "source": [
    "### Load replacement data"
   ]
  },
  {
   "cell_type": "code",
   "execution_count": 8,
   "id": "436182f0",
   "metadata": {},
   "outputs": [],
   "source": [
    "#For demoing\n",
    "subset_size = 100\n",
    "data_travel_questions = data_travel_questions[0:subset_size]"
   ]
  },
  {
   "cell_type": "code",
   "execution_count": 54,
   "id": "e0ba6160-f5ca-4867-9041-bdea059a01f3",
   "metadata": {},
   "outputs": [],
   "source": [
    "cities = ['Kigali','Gisenyi','Ruhengeri','Butare','Muhanga','Byumba','Cyangugu','Nyanza','Bugarama','Kayonza','Rwamagana','Nyamata','Ruhango','Gikongoro','Nyagatare','Busogo','Kibuye','Kibungo','Rubengera']\n",
    "regions = [\"Kigali district\", \"Northern Rwanda\", \"Western Rwanda\", \"Eastern Rwanda\", \"Southern Rwanda\"]\n",
    "rwandan_food = [\"ibihaza\", \"ugali\", \"rolex\", \"chapati\", \"brochettes\"]\n",
    "monuments = [\"Nyamata Church\", \"Ntarama Church\", \"Camp Kigali Memorial\", \"Karisoke Research Centre\"]\n",
    "\n",
    "rivers = [\"Rusizi River\",\"Sebeya River\",\"Koko River\",\"Rubyiro River\",\"Ruhwa River\",\"Akagera River\",\"Nyabarongo River\",\"Mukungwa River\",\"Akanyaru River\",\"Rukara River\",\"Mbirurume River\"]\n",
    "lakes = [\"Lake Kivu\",\"Lake Ihema\",\"Lake Rweru\",\"Lake Rwanyakizinga\",\"Lake Hago\",\"Lake Mpanga\",\"Lake Ruhondo\",\"Lake Muhazi\",\"Lake Cyohoha\",\"Lake Kivumba\",\"Lake Burera\",\"Lake Mugesera\",\"Lake Sake\",\"Lake Mihindi\",\"Lake Mpanga\"]\n",
    "mountains = [\"Mount Karisimbi\",\"Mount Gahinga\",\"Mount Sabyinyo\",\"Mount Bisoke\",\"Mount Huye\",\"Mount Nyiragongo\",\"Mount Muhabura\"]\n",
    "parks_and_forests = [\"Akagera National Park\",\"Volcanoes National Park\",\"Bwindi Impenetrable Forest\",\"Nyungwe National Park\",\"Cyamudongo Forest\"]\n",
    "islands = [\"Bushongo Island\",\"Cyuza Island\",\"Idwi Island\",\"Ihoka Island\",\"Ika Island\",\"Nkombo Island\",\"Munanira Island\",\"Ishovu Island\",\"Ite Island\",\"Kwankoro Island\",\"Sharita Island\",\"Gombo Island\",\"Iwawa Island\",\"Iwinja Island\",\"Kigwa Island\",\"Kikaya Island\",\"Mishungo Island\",\"Bugarura Island\"]\n",
    "airports = [\"Kigali International Airport\",\"Kamembe Airport\",\"Gisenyi Airport\",\"Bugesera International Airport\"]\n",
    "falls = [\"Rusumo Waterfalls\"]\n",
    "hotels = [\"Cleo Lake Kivu Hotel\", \"Five Volcanoes Boutique Hotel\", \"Kivu Marina Bay Hotel\", \"Rutete Eco Lodge\", \"Virunga Inn Resort & Spa\", \"Ingagi Park View Lodge\", \"Radisson Blu Hotel\", \"Kivu Paradis Resort\", \"Four Points by Sheraton Kigali\", \"Kigali Marriott Hotel\"]\n",
    "\n",
    "# other_cities = [\"Marrakech\",\"Praslin\",\"Skukuza\",\"La Digue\",\"Cape Point\",\"capetown\",\"Cape Town\",\"Frankfurt\",\"Cancun\",\"Capetown\",\"Cologne city\",\"Copacabana\",\"Francesca\",\"Madina\",\"Marrakech\",\"Mazatlan\",\"Mobay\",\"Monterosso\",\"Monteverde\",\"Nessebar\",\"Oamaru\",\"Old Town\",\"Osta Antica\",\"Paestum\",\"Paleochora\",\"Patagonia\",\"Pathumwan\",\"Patong\",\"Pavlopetri\",\"Punta\",\"Queesntown\",\"Rabaul\",\"Rhodes Town\",\"Samana\",\"Segesta\",\"Shinagawa\",\"Sicily\",\"Sidari\",\"Sohar\",\"Sokcho\",\"Sosua\",\"Sperlong\",\"St Girons\",\"Sukhumvit\",\"Taba\",\"Thumrait\",\"Tibet\",\"Umbria\",\"Vernazza\",\"Villasimius\",\"Whistler\",\"Ximending\",\"chungju\",\"sharm el sheik\"]\n",
    "# other_islands = [\"kurumba\",\"Majorco\",\"North Island\",\"Masirsouth islandah\",\"Minorca\",\"Milos\",\"Moorea\",\"Nami islands\",\"Phi Phi\",\"Phu Quoc\",\"Savai'i\",\"Savaii\",\"Tahiti\",\"Tsarabanjina\",\"Upolo\",\"Zante\",\"malolo\",\"moorea\",\"south island\",\"upolu\"]\n",
    "# other_parks = [\"Kruger\",\"Naejangsan\",\"Tortuguero\",\"Tsavo\",\"Yellowstone\",\"masai mara\",\"Masai Mara\"]\n",
    "# other_countries = [\"UAE\", \"UK\",\"korea\",\"northern ireland\",\"Tahiti\", \"scotland\", \"south korea\", \"California\", \"Scandinavia\", \"germany\", \"canada\", \"USA\", \"pakistan\", \"UAE\", \"thailand\", \"argentina\", \"Ohio State\", \"Korea\", \"Tibet\", \"Sri lanka\", \"French Polynesia\", \"korea\", \"U.S.\", \"Mauritius\", \"Vanuatu\", \"Jordan\"]"
   ]
  },
  {
   "cell_type": "code",
   "execution_count": 41,
   "id": "a44b50c4",
   "metadata": {},
   "outputs": [],
   "source": [
    "#Load NER's to substitute\n",
    "other_cities = [l.strip() for l in open('map-data/map-cities.txt', 'r')]\n",
    "other_islands = [l.strip() for l in open('map-data/map-islands.txt', 'r')]\n",
    "other_parks = [l.strip() for l in open('map-data/map-parks.txt', 'r')]\n",
    "other_countries = [l.strip() for l in open('map-data/map-countries.txt', 'r')]\n",
    "other_regions = [l.strip() for l in open('map-data/map-regions.txt', 'r')]\n",
    "other_demonyms = [l.strip() for l in open('map-data/map-demonyms.txt', 'r')]\n",
    "other_food = [l.strip() for l in open('map-data/map-food.txt', 'r')]\n",
    "other_monuments = [l.strip() for l in open('map-data/map-monuments.txt', 'r')]\n",
    "\n",
    "all_other_locs = other_cities + other_islands + other_parks + other_countries +other_regions + other_demonyms + other_food + other_monuments\n"
   ]
  },
  {
   "cell_type": "code",
   "execution_count": 77,
   "id": "ef0557d3",
   "metadata": {},
   "outputs": [
    {
     "name": "stdout",
     "output_type": "stream",
     "text": [
      "other_loc_places 1458\n",
      "skipped 494\n"
     ]
    }
   ],
   "source": [
    "other_loc_places = set()\n",
    "skipped = set()\n",
    "for sentence in data_travel_questions:\n",
    "    doc = nlp(sentence)\n",
    "    for ent in doc.ents:   \n",
    "        if ent.label_ in ['LOC', 'ORG', 'EVENT', 'FAC', 'GPE'] and ent.text not in all_other_locs:\n",
    "            other_loc_places.add(ent.text)\n",
    "        elif ent.label_ in ['PERSON', 'PRODUCT', 'WORK_OF_ART'] and ent.text not in all_other_locs:\n",
    "            skipped.add((ent.text, ent.label_))\n",
    "\n",
    "print('other_loc_places', len(other_loc_places))\n",
    "print('skipped', len(skipped))"
   ]
  },
  {
   "cell_type": "code",
   "execution_count": 78,
   "id": "f58899c7",
   "metadata": {},
   "outputs": [
    {
     "ename": "KeyError",
     "evalue": "'Airport'",
     "output_type": "error",
     "traceback": [
      "\u001b[0;31m---------------------------------------------------------------------------\u001b[0m",
      "\u001b[0;31mKeyError\u001b[0m                                  Traceback (most recent call last)",
      "\u001b[0;32m<ipython-input-78-38eeb2d354e3>\u001b[0m in \u001b[0;36m<module>\u001b[0;34m\u001b[0m\n\u001b[0;32m----> 1\u001b[0;31m \u001b[0mother_loc_places\u001b[0m\u001b[0;34m.\u001b[0m\u001b[0mremove\u001b[0m\u001b[0;34m(\u001b[0m\u001b[0;34m\"Airport\"\u001b[0m\u001b[0;34m)\u001b[0m\u001b[0;34m\u001b[0m\u001b[0;34m\u001b[0m\u001b[0m\n\u001b[0m",
      "\u001b[0;31mKeyError\u001b[0m: 'Airport'"
     ]
    }
   ],
   "source": [
    "other_loc_places.remove(\"Airport\")"
   ]
  },
  {
   "cell_type": "markdown",
   "id": "62c0f696",
   "metadata": {},
   "source": [
    "## Substitution"
   ]
  },
  {
   "cell_type": "code",
   "execution_count": 24,
   "id": "56baf65f",
   "metadata": {},
   "outputs": [],
   "source": [
    "def loc_substitute_fn(place):\n",
    "    place = place.lower()\n",
    "    location = \"\"\n",
    "    if \"island\" in place or \"isle\" in place:\n",
    "        location = random.choice(islands)\n",
    "    elif \"Mount\" in place or \"Mt.\" in place:\n",
    "        location = random.choice(mountains)\n",
    "    elif \"River\" in place:\n",
    "        location = random.choice(rivers)\n",
    "    elif \"Park\" in place:\n",
    "        location = random.choice(parks_and_forests)\n",
    "    elif \"Lake\" in place:\n",
    "        location = random.choice(lakes)\n",
    "    elif \"airport\" in place:\n",
    "        location = random.choice(airports)\n",
    "    elif \"falls\" in place:\n",
    "        location = random.choice(falls)\n",
    "    elif \"hotel\" in place or \"Hotel\" in place or \"resort\" in place or \"Resort\" in place:\n",
    "        location = random.choice(hotels)\n",
    "    return location\n",
    "\n",
    "def city_substitute_fn(city,frequency):\n",
    "    if frequency >= 10:\n",
    "        substitute_city = \"Kigali\"\n",
    "    else:\n",
    "        substitute_city = random.choice(rwandan_cities)\n",
    "    return substitute_city"
   ]
  },
  {
   "cell_type": "code",
   "execution_count": 74,
   "id": "c32153a3",
   "metadata": {},
   "outputs": [],
   "source": [
    "def substitute_text(content_string, debug=False):\n",
    "    for original_place in other_loc_places:\n",
    "        substitute_place = loc_substitute_fn(original_place)\n",
    "        if substitute_place:\n",
    "            content_string = content_string.replace(original_place,substitute_place)\n",
    "    if debug: print(content_string)\n",
    "    for monument in other_monuments:\n",
    "        content_string = content_string.replace(monument,random.choice(monuments))\n",
    "    if debug: print(content_string)\n",
    "    for region in other_regions:\n",
    "        content_string = content_string.replace(region,random.choice(regions))\n",
    "    if debug: print(content_string)\n",
    "    for food in other_food:\n",
    "        content_string = content_string.replace(food,random.choice(rwandan_food))\n",
    "    if debug: print(content_string)\n",
    "    for island in other_islands:\n",
    "        content_string = content_string.replace(island,random.choice(islands))\n",
    "    if debug: print(content_string)\n",
    "    for park in other_parks:\n",
    "        content_string = content_string.replace(park,random.choice(parks_and_forests))\n",
    "    if debug: print(content_string)\n",
    "    for demonym in other_demonyms:\n",
    "        content_string = content_string.replace(demonym,\"Rwandan\")\n",
    "    if debug: print(content_string)\n",
    "    for city in other_cities:\n",
    "        content_string = content_string.replace(city,random.choice(cities))\n",
    "    if debug: print(content_string)\n",
    "    for country in other_countries:\n",
    "        content_string = content_string.replace(country,\"Rwanda\")    \n",
    "    if debug: print(content_string)\n",
    "    return content_string"
   ]
  },
  {
   "cell_type": "code",
   "execution_count": 97,
   "id": "9857f593-9d9b-4bd9-8a61-0c2e68c9141a",
   "metadata": {},
   "outputs": [],
   "source": [
    "substituted_content_string = substitute_text(content_string)\n",
    "with open(\"5000_travel_sentences_data_substituted.txt\",\"w\") as f:\n",
    "    # for line in substituted_data_travel_content:\n",
    "    f.write(substituted_content_string)"
   ]
  },
  {
   "cell_type": "code",
   "execution_count": 94,
   "id": "ece35a01",
   "metadata": {},
   "outputs": [
    {
     "name": "stdout",
     "output_type": "stream",
     "text": [
      "What are the hotels close to Bugesera International Airport?\n",
      "What are the hotels close to Bugesera International Airport?\n",
      "What are the hotels close to Bugesera International Airport?\n",
      "What are the hotels close to Bugesera International Airport?\n",
      "What are the hotels close to Bugesera International Airport?\n",
      "What are the hotels close to Bugesera International Airport?\n",
      "What are the hotels close to Bugesera International Airport?\n",
      "What are the hotels close to Bugesera International Airport?\n",
      "What are the hotels close to Bugesera International Airport?\n"
     ]
    },
    {
     "data": {
      "text/plain": [
       "'What are the hotels close to Bugesera International Airport?'"
      ]
     },
     "execution_count": 94,
     "metadata": {},
     "output_type": "execute_result"
    }
   ],
   "source": [
    "#Test\n",
    "substitute_text(\"What are the hotels close to Belfast International Airport?\", True)"
   ]
  },
  {
   "cell_type": "code",
   "execution_count": null,
   "id": "e54f0b73",
   "metadata": {},
   "outputs": [],
   "source": []
  }
 ],
 "metadata": {
  "kernelspec": {
   "display_name": "Python 3",
   "language": "python",
   "name": "python3"
  },
  "language_info": {
   "codemirror_mode": {
    "name": "ipython",
    "version": 3
   },
   "file_extension": ".py",
   "mimetype": "text/x-python",
   "name": "python",
   "nbconvert_exporter": "python",
   "pygments_lexer": "ipython3",
   "version": "3.7.10"
  }
 },
 "nbformat": 4,
 "nbformat_minor": 5
}
